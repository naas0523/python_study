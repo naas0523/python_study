{
 "cells": [
  {
   "cell_type": "markdown",
   "id": "15820a2f",
   "metadata": {},
   "source": [
    "### 08. 딕셔너리 \n",
    "- **키-값 쌍**으로 묶어 데이터를 저장하는 자료형\n",
    "- 키는 유일해야함. 값은 중복 가능\n",
    "- 변경 가능한 자료형\n",
    "- 순서가 보장되지 않았다가 → py 3.7버전 이후 순서가 보장됨  "
   ]
  },
  {
   "cell_type": "code",
   "execution_count": null,
   "id": "f386c3b4",
   "metadata": {},
   "outputs": [],
   "source": [
    "d1 ={}\n",
    "print(d1, type(d1))\n",
    "\n",
    "person = {\"name\": \"minj\",\"age\": 23}\n",
    "print(person)\n",
    "\n",
    "#dict 함수로 생성\n",
    "d2 = dict() #빈 \n",
    "print(d2, type(d2))\n",
    "\n",
    "#키가 문자열 일때 가능 \n",
    "movie = dict(title =\"wintercastle\",)\n",
    "\n",
    "# 리스트 나 튜플로 만들기\n",
    "pair = [{\"name\",\"minj\"},{\"age\",23}, {\"job\",\"student\"}]\n",
    "person2 = dict(pair)\n",
    "print(person2)\n",
    "\n",
    "# zip 함수 활용\n",
    "keys = [\"title\", \"director\",\"yaer\"]\n",
    "values = [\"기생충\",\"봉중호\",2020]"
   ]
  },
  {
   "cell_type": "code",
   "execution_count": null,
   "id": "5939c9c4",
   "metadata": {},
   "outputs": [],
   "source": [
    "# 키로 사용할 수 없는 자료형\n",
    "#키는 불변자료형을 사용해야함\n",
    "d1 = {(1,2,3): {1,2,3} } # 튜플 사용가능\n",
    "d2 = {1:10}\n",
    "\n",
    "d3 = {[1,2,3]: \"리스트를 키로?\"} # 가변 자료형은 키로 사용 불가능"
   ]
  },
  {
   "cell_type": "code",
   "execution_count": null,
   "id": "8507aa16",
   "metadata": {},
   "outputs": [
    {
     "name": "stdout",
     "output_type": "stream",
     "text": [
      "minj\n",
      "23\n",
      "minj\n",
      "23\n",
      "None\n",
      "이메일이 존재하지 않습니다\n"
     ]
    }
   ],
   "source": [
    "# dict 데이터 조회\n",
    "person = {\"name\" : \"minj\",\"age\" : 23,\"job\" :\"student\"}\n",
    "\n",
    "print(person[\"name\"])\n",
    "print(person[\"age\"])\n",
    "#get 메서드를 활용\n",
    "print(person.get(\"name\"))\n",
    "print(person.get(\"age\"))\n",
    "# 존재하지않는 키로 조회\n",
    "print(person.get(\"email\"))\n",
    "print(person.get(\"email\",\"이메일이 존재하지 않습니다\"))\n"
   ]
  },
  {
   "cell_type": "code",
   "execution_count": null,
   "id": "53b478c4",
   "metadata": {},
   "outputs": [],
   "source": [
    "# get 사용 예제\n",
    "user_data = {\n",
    "    \"username\": \"minj_minmin\"\n",
    "    \"email\" : naas4844@naver.com\n",
    "    \"password\": \"abcde\"\n",
    "}\n",
    "\n",
    "key =input(\"조회할 정보를 입력하시오 :\")\n",
    "result = user_data"
   ]
  },
  {
   "cell_type": "code",
   "execution_count": null,
   "id": "7121e8d0",
   "metadata": {},
   "outputs": [
    {
     "name": "stdout",
     "output_type": "stream",
     "text": [
      "{'title': 'sss'}\n"
     ]
    }
   ],
   "source": [
    "# 데이터 추가 및 수정 방법\n",
    "user_data = {\n",
    "    \"username\": \"minj_minmin\",\n",
    "    \"email\" : \"naas4844@naver.com\"\n",
    "}\n",
    "user_data[\"nickname\"]= \"삐짐왕\"\n",
    "user_data[\"username\"]= \"mimj\"\n",
    "user_data\n",
    "\n",
    "#update 메서드 활용\n",
    "\n",
    "movie_date = {\n",
    "    \"title\" : \"sss\",\n",
    "    \"year\" : 2025\n",
    "}\n",
    "\n",
    "movie_date\n",
    "\n",
    "# 데이터 삭제\n",
    "\n",
    "del movie_date[\"year\"]\n",
    "print(movie_date)\n",
    "\n",
    "#dict 비우기\n"
   ]
  },
  {
   "cell_type": "code",
   "execution_count": null,
   "id": "af410ac7",
   "metadata": {},
   "outputs": [
    {
     "ename": "SyntaxError",
     "evalue": "invalid syntax (4197322532.py, line 3)",
     "output_type": "error",
     "traceback": [
      "  \u001b[36mCell\u001b[39m\u001b[36m \u001b[39m\u001b[32mIn[23]\u001b[39m\u001b[32m, line 3\u001b[39m\n\u001b[31m    \u001b[39m\u001b[31m\"username\": \"minj_minmin\"\u001b[39m\n              ^\n\u001b[31mSyntaxError\u001b[39m\u001b[31m:\u001b[39m invalid syntax\n"
     ]
    }
   ],
   "source": [
    "# 딕셔너리 메서드\n",
    "username = {\n",
    "    \"username\": \"minj_minmin\",\n",
    "    \"email\" : \"naas4844@naver.com\",\n",
    "    \"password\": \"abcde\"\n",
    "}\n",
    "# keys : 모든 값을 반환\n",
    "print(\"키\", list(username))\n",
    "# values : 모든 값을 반환\n",
    "\n",
    "#setdefault\n",
    "movie_date.setdefault(\"year\",\"알수없음\")\n",
    "movie_date.setdefault(\"제작사\",\"DC스튜디오\")"
   ]
  },
  {
   "cell_type": "code",
   "execution_count": null,
   "id": "096f3837",
   "metadata": {},
   "outputs": [
    {
     "name": "stdout",
     "output_type": "stream",
     "text": [
      "{'username': 'skywalker', 'email': 'sky@example.com', 'level': 5}\n",
      "sky@example.com\n",
      "{'username': 'skywalker', 'email': 'sky@example.com', 'level': 6}\n",
      "미입력\n",
      "{'username': 'skywalker', 'level': 6, 'nickname': 'sky', 'signup_date': '2025-07-10'}\n"
     ]
    }
   ],
   "source": [
    "#문제 1. 딕셔너리 핵심 개념 통합 실습\n",
    "# ▪1단계: 빈 딕셔너리 생성 : user라는 이름의 빈 딕셔너리를 생성하세요.\n",
    "user ={}\n",
    "# ▪2단계: 사용자 기본 정보 추가\n",
    "user.update({\n",
    "    \"username\": \"skywalker\",\n",
    "    \"email\": \"sky@example.com\",\n",
    "    \"level\": 5\n",
    "})\n",
    "print(user)\n",
    "# ▪ 3단계: 값 읽기 -\"email\" 값을 변수 email_value에 저장하고 출력하세요.\n",
    "\n",
    "email_value = user[\"email\"]\n",
    "print(email_value)\n",
    "\n",
    "user [\"level\"]= 6\n",
    "print(user)\n",
    "phone = user.get(\"phone\",\"미입력\")\n",
    "print(phone)\n",
    "user.update(nickname= \"sky\")\n",
    "user.pop(\"email\")\n",
    "user.setdefault(\"signup_date\",\"2025-07-10\")\n",
    "print(user)"
   ]
  },
  {
   "cell_type": "code",
   "execution_count": 53,
   "id": "eddc5ffe",
   "metadata": {},
   "outputs": [
    {
     "name": "stdout",
     "output_type": "stream",
     "text": [
      "{'Alice': 88, 'Charlie': 95, 'David': 80}\n"
     ]
    }
   ],
   "source": [
    "#문제 2\n",
    "student = {}\n",
    "#\"Alice\", \"Bob\", \"Charlie\" = 85, 90, 95\n",
    "student.update(Alice = 85, Bob = 90,Charlie = 95)\n",
    "student[\"David\"]=80\n",
    "student[\"Alice\"]=88\n",
    "student.pop(\"Bob\")\n",
    "print(student)"
   ]
  },
  {
   "cell_type": "code",
   "execution_count": null,
   "id": "586fef4b",
   "metadata": {},
   "outputs": [],
   "source": []
  }
 ],
 "metadata": {
  "kernelspec": {
   "display_name": "python_study",
   "language": "python",
   "name": "python3"
  },
  "language_info": {
   "codemirror_mode": {
    "name": "ipython",
    "version": 3
   },
   "file_extension": ".py",
   "mimetype": "text/x-python",
   "name": "python",
   "nbconvert_exporter": "python",
   "pygments_lexer": "ipython3",
   "version": "3.13.5"
  }
 },
 "nbformat": 4,
 "nbformat_minor": 5
}
