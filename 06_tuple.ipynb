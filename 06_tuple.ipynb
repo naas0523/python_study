{
 "cells": [
  {
   "cell_type": "markdown",
   "id": "cd90cc79",
   "metadata": {},
   "source": [
    "### 튜플(tuple) : \n",
    "- 순서가 존재하는 여러 데이터의 모음\n",
    "- 불변(immutable) 자료형 -원소 수정/삭제가 안됨\n"
   ]
  },
  {
   "cell_type": "code",
   "execution_count": null,
   "id": "7d5eaa35",
   "metadata": {},
   "outputs": [],
   "source": [
    "#튜플 생성\n",
    "my_tuple = (1,2,3,4)\n",
    "#소괄호 없이 튜플생성\n",
    "no_paren_tuple = 5,6,7,8\n",
    "print(no_paren_tuple, type (no_paren_tuple))\n"
   ]
  },
  {
   "cell_type": "code",
   "execution_count": null,
   "id": "bddab39f",
   "metadata": {},
   "outputs": [],
   "source": [
    "#원소가 하나인 튜플 생성\n",
    "single_el_tuple =(100,) #콤마를 반드시 붙여야함\n",
    "# 튜플 생성 함수로 생성\n",
    "my_tuple2 = tuple()\n",
    "print(tuple2)\n"
   ]
  },
  {
   "cell_type": "code",
   "execution_count": null,
   "id": "f737e076",
   "metadata": {},
   "outputs": [],
   "source": [
    "# 언패킹(Unpacking)\n",
    "# 시퀀스에 저장된 여러값을 여러 변수에 나누어 저장하는 것\n",
    "# 구조 분해 할당(Destruction)\n",
    "과일1,과일2,과일3 = \"사과\",\"포도\",\"참외\" #튜플\n",
    "\n"
   ]
  },
  {
   "cell_type": "code",
   "execution_count": null,
   "id": "0c89df60",
   "metadata": {},
   "outputs": [
    {
     "ename": "SyntaxError",
     "evalue": "cannot assign to function call here. Maybe you meant '==' instead of '='? (2214155108.py, line 5)",
     "output_type": "error",
     "traceback": [
      "  \u001b[36mCell\u001b[39m\u001b[36m \u001b[39m\u001b[32mIn[1]\u001b[39m\u001b[32m, line 5\u001b[39m\n\u001b[31m    \u001b[39m\u001b[31mmy_tuple(0)=100\u001b[39m\n    ^\n\u001b[31mSyntaxError\u001b[39m\u001b[31m:\u001b[39m cannot assign to function call here. Maybe you meant '==' instead of '='?\n"
     ]
    }
   ],
   "source": [
    "#튜플의 불변성 \n",
    "#불변성 : 객체가 생성된 이후 내부 데이터를 변경할 수 없는 것\n",
    "\n",
    "#튜플 수정시도\n",
    "my_tuple =(1,2,3)\n",
    "my_tuple(0)=100\n"
   ]
  },
  {
   "cell_type": "code",
   "execution_count": null,
   "id": "93ce482d",
   "metadata": {},
   "outputs": [
    {
     "ename": "NameError",
     "evalue": "name 'my_tuple' is not defined",
     "output_type": "error",
     "traceback": [
      "\u001b[31m---------------------------------------------------------------------------\u001b[39m",
      "\u001b[31mNameError\u001b[39m                                 Traceback (most recent call last)",
      "\u001b[36mCell\u001b[39m\u001b[36m \u001b[39m\u001b[32mIn[2]\u001b[39m\u001b[32m, line 1\u001b[39m\n\u001b[32m----> \u001b[39m\u001b[32m1\u001b[39m \u001b[38;5;28;01mdel\u001b[39;00m \u001b[43mmy_tuple\u001b[49m[\u001b[32m1\u001b[39m]\n",
      "\u001b[31mNameError\u001b[39m: name 'my_tuple' is not defined"
     ]
    }
   ],
   "source": [
    "#튜플의 원소 삭제 시도\n",
    "del my_tuple[1]"
   ]
  },
  {
   "cell_type": "code",
   "execution_count": 3,
   "id": "98e8edaf",
   "metadata": {},
   "outputs": [
    {
     "name": "stdout",
     "output_type": "stream",
     "text": [
      "(100, 20, 30)\n"
     ]
    }
   ],
   "source": [
    "my_tuple2 = (10,20,30)\n",
    "new_tuple = (100,)+ my_tuple2[1:]\n",
    "print(new_tuple)"
   ]
  },
  {
   "cell_type": "code",
   "execution_count": null,
   "id": "108f91d8",
   "metadata": {},
   "outputs": [
    {
     "ename": "NameError",
     "evalue": "name 'my_tuple' is not defined",
     "output_type": "error",
     "traceback": [
      "\u001b[31m---------------------------------------------------------------------------\u001b[39m",
      "\u001b[31mNameError\u001b[39m                                 Traceback (most recent call last)",
      "\u001b[36mCell\u001b[39m\u001b[36m \u001b[39m\u001b[32mIn[4]\u001b[39m\u001b[32m, line 1\u001b[39m\n\u001b[32m----> \u001b[39m\u001b[32m1\u001b[39m \u001b[38;5;28;01mdel\u001b[39;00m \u001b[43mmy_tuple\u001b[49m\n\u001b[32m      2\u001b[39m \u001b[38;5;28mprint\u001b[39m(my_tuple)\n",
      "\u001b[31mNameError\u001b[39m: name 'my_tuple' is not defined"
     ]
    }
   ],
   "source": [
    "#튜플 자체를 삭제 가능, 원소 삭제 불가능 \n",
    "del my_tuple\n",
    "print(my_tuple)"
   ]
  },
  {
   "cell_type": "code",
   "execution_count": null,
   "id": "a08acf2f",
   "metadata": {},
   "outputs": [],
   "source": []
  },
  {
   "cell_type": "code",
   "execution_count": null,
   "id": "a554ed5b",
   "metadata": {},
   "outputs": [
    {
     "ename": "SyntaxError",
     "evalue": "invalid syntax (3342632751.py, line 2)",
     "output_type": "error",
     "traceback": [
      "  \u001b[36mCell\u001b[39m\u001b[36m \u001b[39m\u001b[32mIn[35]\u001b[39m\u001b[32m, line 2\u001b[39m\n\u001b[31m    \u001b[39m\u001b[31mrestored_user = (\"eunji\")+ user(0:)\u001b[39m\n                                     ^\n\u001b[31mSyntaxError\u001b[39m\u001b[31m:\u001b[39m invalid syntax\n"
     ]
    }
   ],
   "source": [
    "user =(\"minji\",25,\"Seoul\")\n",
    "restored_user = (\"eunji\") +\n",
    "print(\"1.고객님 정보 백업 :\",restored_user)"
   ]
  },
  {
   "cell_type": "code",
   "execution_count": 31,
   "id": "9621e918",
   "metadata": {},
   "outputs": [
    {
     "name": "stdout",
     "output_type": "stream",
     "text": [
      "Step 2. 고객 정보 언패킹하여 변수에 저장\n",
      "2. 고객님 정보 변수 저장 : eunji 25 Seoul\n"
     ]
    }
   ],
   "source": [
    "#Step 2. 고객 정보 언패킹하여 변수에 저장\n",
    "print(\"Step 2. 고객 정보 언패킹하여 변수에 저장\")\n",
    "name,age,city = restored_user\n",
    "print(\"2. 고객님 정보 변수 저장 :\",name,age,city)"
   ]
  },
  {
   "cell_type": "code",
   "execution_count": 32,
   "id": "3a666e38",
   "metadata": {},
   "outputs": [
    {
     "name": "stdout",
     "output_type": "stream",
     "text": [
      "Step 3. 지역별 보안 정책 분기 처리\n",
      "서울 지역 보안 정책 적용 대상 입니다\n"
     ]
    }
   ],
   "source": [
    "#Step 3. 지역별 보안 정책 분기 처리\n",
    "print(\"Step 3. 지역별 보안 정책 분기 처리\")\n",
    "if city == \"Seoul\":\n",
    "    print(\"서울 지역 보안 정책 적용 대상 입니다\")\n",
    "else:\n",
    "    print(\"일반 지역 보안 정책 적용대상입니다.\")"
   ]
  },
  {
   "cell_type": "code",
   "execution_count": 33,
   "id": "b0298bcc",
   "metadata": {},
   "outputs": [
    {
     "name": "stdout",
     "output_type": "stream",
     "text": [
      "Step 4. 고객 데이터 통계 분석\n",
      "3\n",
      "2\n"
     ]
    }
   ],
   "source": [
    "print(\"Step 4. 고객 데이터 통계 분석\")\n",
    "users = (\"minji\", \"eunji\", \"soojin\", \"minji\", \"minji\")\n",
    "print(users.count(\"minji\"))\n",
    "print(users.index(\"soojin\"))"
   ]
  },
  {
   "cell_type": "code",
   "execution_count": 29,
   "id": "ed14d61a",
   "metadata": {},
   "outputs": [
    {
     "name": "stdout",
     "output_type": "stream",
     "text": [
      "Step 5. 고객 이름 정렬\n",
      "['eunji', 'minji', 'minji', 'minji', 'soojin']\n"
     ]
    }
   ],
   "source": [
    "print(\"Step 5. 고객 이름 정렬\")\n",
    "sorted_users = sorted(users)\n",
    "print(sorted_users)"
   ]
  }
 ],
 "metadata": {
  "kernelspec": {
   "display_name": "python_study",
   "language": "python",
   "name": "python3"
  },
  "language_info": {
   "codemirror_mode": {
    "name": "ipython",
    "version": 3
   },
   "file_extension": ".py",
   "mimetype": "text/x-python",
   "name": "python",
   "nbconvert_exporter": "python",
   "pygments_lexer": "ipython3",
   "version": "3.13.5"
  }
 },
 "nbformat": 4,
 "nbformat_minor": 5
}
