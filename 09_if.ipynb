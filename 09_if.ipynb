{
 "cells": [
  {
   "cell_type": "markdown",
   "id": "26d3cf79",
   "metadata": {},
   "source": [
    "### 09. 조건문\n",
    "- 조건에 따라 프로그램의 실행 흐름을 분기시키는 제어문 \n",
    "- 조건 : 참 과 거짓을 구분할 수 있는 문장\n"
   ]
  },
  {
   "cell_type": "code",
   "execution_count": null,
   "id": "30a33948",
   "metadata": {},
   "outputs": [],
   "source": [
    "# 조건문의 기초 문법\n",
    "# if 로 시작하고 조건을 써야한다 :(콜론)으로 조건의 시작점을 뜻함\n",
    "# if + 조건 → 조건이 참이면 실행\n",
    "if 조건:\n",
    "    print('참이면 실행')\n",
    "print('조건문 종료')"
   ]
  },
  {
   "cell_type": "code",
   "execution_count": 1,
   "id": "5340b7fd",
   "metadata": {},
   "outputs": [
    {
     "name": "stdout",
     "output_type": "stream",
     "text": [
      "조건 종료\n"
     ]
    }
   ],
   "source": [
    "a = int(input())\n",
    "if a> 10 :\n",
    "    print(\"a는 10보다 커요\")\n",
    "print('조건 종료')"
   ]
  },
  {
   "cell_type": "code",
   "execution_count": 2,
   "id": "76f27ea4",
   "metadata": {},
   "outputs": [],
   "source": [
    "# 조건문에 실행할 코드를 입력하지 않았을 때 \n",
    "# pass로 해당 조건을 넘어갈 수 있음\n",
    "if a> 100 :\n",
    "    pass"
   ]
  },
  {
   "cell_type": "code",
   "execution_count": 4,
   "id": "7350916f",
   "metadata": {},
   "outputs": [
    {
     "name": "stdout",
     "output_type": "stream",
     "text": [
      "참이면 실행\n"
     ]
    }
   ],
   "source": [
    "# 조건식의 평가\n",
    "name = \"min\"\n",
    "if name :\n",
    "    print('참이면 실행')"
   ]
  },
  {
   "cell_type": "code",
   "execution_count": 2,
   "id": "88af3a66",
   "metadata": {},
   "outputs": [
    {
     "name": "stdout",
     "output_type": "stream",
     "text": [
      "우산을 챙기세요\n"
     ]
    }
   ],
   "source": [
    "날씨 = input( \"날씨를 입력해주세요\")\n",
    "if 날씨 == '비' :\n",
    "    print(\"우산을 챙기세요\")\n",
    "\n",
    "if 날씨 == '맑음':\n",
    "    print(\"선크림을 바르세요\")"
   ]
  },
  {
   "cell_type": "code",
   "execution_count": 6,
   "id": "4c9d51d8",
   "metadata": {},
   "outputs": [
    {
     "name": "stdout",
     "output_type": "stream",
     "text": [
      "a는 10보다 작아요\n"
     ]
    }
   ],
   "source": [
    "# if - else 문 \n",
    "# 조건이 참일때는 if문을 조건이 거짓을 때는 else 문을 실행\n",
    "a = int(input(\"a의 값을 써주세요\"))\n",
    "if a > 10:\n",
    "    print(\"a는 10보다 커요\")\n",
    "else:\n",
    "    print(\"a는 10보다 작아요\")"
   ]
  },
  {
   "cell_type": "code",
   "execution_count": 7,
   "id": "9ce97f5e",
   "metadata": {},
   "outputs": [
    {
     "name": "stdout",
     "output_type": "stream",
     "text": [
      "짝수 입니다\n"
     ]
    }
   ],
   "source": [
    "정수 = int(input('정수를 입력해주세요'))\n",
    "if 정수 % 2 == 0:\n",
    "    print(\"짝수 입니다\")\n",
    "else :\n",
    "    print(\"홀수입니다\")"
   ]
  },
  {
   "cell_type": "code",
   "execution_count": 11,
   "id": "8d92c00b",
   "metadata": {},
   "outputs": [
    {
     "name": "stdout",
     "output_type": "stream",
     "text": [
      "a\n"
     ]
    }
   ],
   "source": [
    "# if - elif - else 구문\n",
    "# elif : else if의 약자, 그게 아니면 만약 ~ 라면\n",
    "# 조건을 반드시 기록합니다.\n",
    "# if가 있어야만 사용할 수 있다\n",
    "score = int(input())\n",
    "# 90점 이상이면 a\n",
    "if score >= 90:\n",
    "    print(\"a\")\n",
    "# (90점 미만이고)80점 이상이면 b\n",
    "elif score >= 80:\n",
    "    print(\"b\") \n",
    "# 70점 이상이면 c\n",
    "elif score >= 70:\n",
    "    print(\"c\")\n",
    "else:\n",
    "    print(\"f\")"
   ]
  },
  {
   "cell_type": "code",
   "execution_count": null,
   "id": "efdb1b81",
   "metadata": {},
   "outputs": [
    {
     "name": "stdout",
     "output_type": "stream",
     "text": [
      "청소년 관람불가 가능\n"
     ]
    }
   ],
   "source": [
    "나이 = int(input(\"나이를 입력해주세요\"))\n",
    "if 나이 >= 19:\n",
    "    print(\"청소년 관람불가 가능\")\n",
    "elif 나이 >= 16:\n",
    "    print(\"15세이상 관람가\")\n",
    "elif 나이 >= 13:\n",
    "    print(\"12세 관람가\")\n",
    "else:\n",
    "    print(\"전체 관람가\")"
   ]
  },
  {
   "cell_type": "code",
   "execution_count": 13,
   "id": "2ccd1726",
   "metadata": {},
   "outputs": [
    {
     "name": "stdout",
     "output_type": "stream",
     "text": [
      "로그인 성공\n"
     ]
    }
   ],
   "source": [
    "# 중첩 조건문\n",
    "# 하나의 if문 안에 도 다른 if 문을 사용하는 것\n",
    "\n",
    "# 로그인 프로세스\n",
    "username = input()\n",
    "\n",
    "if username == \"admin\":\n",
    "    password = input()\n",
    "    if password == \"abcd\":\n",
    "        print(\"로그인 성공\")\n",
    "else:\n",
    "    print(\"잘못된 관리자 아이디 입니다\")"
   ]
  },
  {
   "cell_type": "code",
   "execution_count": null,
   "id": "fcdffed4",
   "metadata": {},
   "outputs": [
    {
     "name": "stdout",
     "output_type": "stream",
     "text": [
      "구매할 수 있습니다\n"
     ]
    }
   ],
   "source": [
    "#실습5 \n",
    "\"김밥\",\"삼각김밥\",\"도시락\"=2500,1500,4000\n",
    "제시한_금액 = int(input(\"금액을 제시해주세요\"))\n",
    "if 제시한_금액 >= 4000:\n",
    "    상품 = input(\"삼각김밥,김밥,도시락중에 골라주세요\")\n",
    "    if 상품 == \"김밥\" or \"삼각김밥\" or \"도시락\":\n",
    "        print(\"구매할 수 있습니다\")\n",
    "elif 제시한_금액 >= 2500:\n",
    "    상품 = input(\"삼각김밥,김밥,도시락중에 골라주세요\")\n",
    "    if 상품 == \"김밥\" or \"삼각김밥\":\n",
    "        print(\"구매할 수 있습니다\")\n",
    "elif 제시한_금액 >= 1500:\n",
    "    상품 = input(\"삼각김밥,김밥,도시락중에 골라주세요\")\n",
    "    if 상품 == \"삼각김밥\":\n",
    "        print(\"구매할 수 있습니다\")\n",
    "else:\n",
    "    print(\"잘 못 입력하셨습니다\")"
   ]
  },
  {
   "cell_type": "code",
   "execution_count": 19,
   "id": "9a580f32",
   "metadata": {},
   "outputs": [
    {
     "name": "stdout",
     "output_type": "stream",
     "text": [
      "1시간 56분 40초\n"
     ]
    }
   ],
   "source": [
    "time = int(input(\"초를 입력하시오.\"))\n",
    "if time >= 3600:\n",
    "    시간 = time // 3600\n",
    "    분1 = (time % 3600)//60\n",
    "    초1 = time % 60\n",
    "    print(f\"{시간}시간 {분1}분 {초1}초\")\n",
    "elif time >= 60:\n",
    "    분2 = time // 60\n",
    "    초2 = time % 60\n",
    "    print(f\"{분2}분 {초2}초\")\n",
    "else:\n",
    "    print(\"{time}초\")"
   ]
  },
  {
   "cell_type": "code",
   "execution_count": null,
   "id": "d074640e",
   "metadata": {},
   "outputs": [],
   "source": []
  }
 ],
 "metadata": {
  "kernelspec": {
   "display_name": "python_study",
   "language": "python",
   "name": "python3"
  },
  "language_info": {
   "codemirror_mode": {
    "name": "ipython",
    "version": 3
   },
   "file_extension": ".py",
   "mimetype": "text/x-python",
   "name": "python",
   "nbconvert_exporter": "python",
   "pygments_lexer": "ipython3",
   "version": "3.13.5"
  }
 },
 "nbformat": 4,
 "nbformat_minor": 5
}
