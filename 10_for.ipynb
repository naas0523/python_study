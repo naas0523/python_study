{
 "cells": [
  {
   "cell_type": "markdown",
   "id": "7f7ca2b6",
   "metadata": {},
   "source": [
    "### 10. for 문 \n",
    "- 이터러블의 요소를 "
   ]
  },
  {
   "cell_type": "code",
   "execution_count": 3,
   "id": "902e8aee",
   "metadata": {},
   "outputs": [
    {
     "name": "stdout",
     "output_type": "stream",
     "text": [
      "가\n",
      "나\n",
      "다\n",
      "라\n"
     ]
    }
   ],
   "source": [
    "# for문 기본 문법\n",
    "import time\n",
    "#for문 기본 문법\n",
    "for 반복변수 in [\"가\",\"나\",\"다\",\"라\"] :\n",
    "    # 반복할 코드\n",
    "    print(반복변수)\n",
    "    time.sleep(1)"
   ]
  },
  {
   "cell_type": "code",
   "execution_count": null,
   "id": "7f991dbc",
   "metadata": {},
   "outputs": [
    {
     "name": "stdout",
     "output_type": "stream",
     "text": [
      "['사과배포도']\n"
     ]
    }
   ],
   "source": [
    "fruits= [\"사과\" \"배\" \"포도\"]\n",
    "\n",
    "for 반복변수 in fruits:\n",
    "    print(fruits)\n",
    "    time.sleep(1)"
   ]
  },
  {
   "cell_type": "code",
   "execution_count": null,
   "id": "4b5905fc",
   "metadata": {},
   "outputs": [],
   "source": [
    "#튜플을 활용한 반복\n",
    "좌표 = [(1,2),(2,4),(10,20)]\n",
    "for x,y in 좌표:\n",
    "    print(f\"x좌표\")"
   ]
  }
 ],
 "metadata": {
  "kernelspec": {
   "display_name": "python_study",
   "language": "python",
   "name": "python3"
  },
  "language_info": {
   "codemirror_mode": {
    "name": "ipython",
    "version": 3
   },
   "file_extension": ".py",
   "mimetype": "text/x-python",
   "name": "python",
   "nbconvert_exporter": "python",
   "pygments_lexer": "ipython3",
   "version": "3.13.5"
  }
 },
 "nbformat": 4,
 "nbformat_minor": 5
}
