{
 "cells": [
  {
   "cell_type": "markdown",
   "id": "6fe21a67",
   "metadata": {},
   "source": [
    "### 07. 집합(set)\n",
    "- 같은 원소를 반복하지않는다.원소의 중복을 허용하지않는 여러 데이터의 모음\n",
    "- 순서가 없는 컬렉션 자료형\n"
   ]
  },
  {
   "cell_type": "code",
   "execution_count": 5,
   "id": "20af52b3",
   "metadata": {},
   "outputs": [
    {
     "name": "stdout",
     "output_type": "stream",
     "text": [
      "{1, 2, 3} <class 'set'>\n",
      "{1, 2, 3}\n",
      "<class 'dict'>\n",
      "set() <class 'set'>\n",
      "{1, 2, 3, 4}\n",
      "{1, 2, 3, 4}\n"
     ]
    }
   ],
   "source": [
    "# set 만들기\n",
    "s1 ={1,2,3}\n",
    "print(s1,type(s1))\n",
    "\n",
    "s2 = {1,1,3,3,2,2}\n",
    "print(s2)\n",
    "\n",
    "# 빈 set만들기\n",
    "#🚨유의사항\n",
    "\n",
    "s3 ={}\n",
    "print(type(s3))\n",
    "#set 함수로 생성\n",
    "s4 =set()\n",
    "print(s4, type(s4))\n",
    "\n",
    "# set 함수로 활용 : 원소의 중복 제거\n",
    "my_list = [1,1,1,2,2,2,4,4,4,3,3,3]\n",
    "s5 = set(my_list) # set으로 변환 → 중복 원소 제거\n",
    "print(s5)\n",
    "my_list = s5\n",
    "print(my_list)"
   ]
  },
  {
   "cell_type": "code",
   "execution_count": null,
   "id": "5249a8a4",
   "metadata": {},
   "outputs": [
    {
     "ename": "TypeError",
     "evalue": "unhashable type: 'list'",
     "output_type": "error",
     "traceback": [
      "\u001b[31m---------------------------------------------------------------------------\u001b[39m",
      "\u001b[31mTypeError\u001b[39m                                 Traceback (most recent call last)",
      "\u001b[36mCell\u001b[39m\u001b[36m \u001b[39m\u001b[32mIn[4]\u001b[39m\u001b[32m, line 9\u001b[39m\n\u001b[32m      6\u001b[39m s_list[\u001b[32m2\u001b[39m]\n\u001b[32m      8\u001b[39m \u001b[38;5;66;03m#자료형 제한\u001b[39;00m\n\u001b[32m----> \u001b[39m\u001b[32m9\u001b[39m s1 = {\u001b[32m1\u001b[39m,\u001b[32m2\u001b[39m,\u001b[32m3\u001b[39m,[\u001b[32m1\u001b[39m,\u001b[32m2\u001b[39m,\u001b[32m3\u001b[39m]}\n",
      "\u001b[31mTypeError\u001b[39m: unhashable type: 'list'"
     ]
    }
   ],
   "source": [
    "#인덱싱\n",
    "s1 = {10,20,30}\n",
    "#s1[1]\n",
    "\n",
    "s_list = list(s1) # 변환하는 과정에서 순서가 보장되지않을 수도 았음\n",
    "s_list[2]\n",
    "\n",
    "#자료형 제한\n",
    "s1 = {1,2,3,[1,2,3]} # 가변자료형은 원소로 사용할 수있다"
   ]
  },
  {
   "cell_type": "code",
   "execution_count": 12,
   "id": "a76f7760",
   "metadata": {},
   "outputs": [
    {
     "name": "stdout",
     "output_type": "stream",
     "text": [
      "합집합 {1, 2, 3, 4, 5}\n",
      "합집합2 {1, 2, 3, 4, 5}\n",
      "교집합1 {3}\n",
      "교집합2 {3}\n",
      "차집합1 {3}\n",
      "차집합2 {3}\n",
      "대칭차집합 {1, 2, 4, 5}\n",
      "대칭차집합 {1, 2, 4, 5}\n"
     ]
    }
   ],
   "source": [
    "# set 연산\n",
    "# 집합의 연산 : 합집합, 교집합, 차집합, 대칭차집합\n",
    "a = {1,2,3}\n",
    "b = {3,4,5}\n",
    "\n",
    "#합집합\n",
    "s_union1 = a|b\n",
    "s_union2 = a.union(b)\n",
    "print(\"합집합\", s_union1)\n",
    "print(\"합집합2\", s_union2)\n",
    "\n",
    "# 교집합\n",
    "s_inter1 = a & b\n",
    "s_inter2 = a.intersection(b)\n",
    "print(\"교집합1\", s_inter1)\n",
    "print(\"교집합2\", s_inter2)\n",
    "\n",
    "# 차집합\n",
    "\n",
    "s_diff1 = a-b\n",
    "s_diff2 = a.difference(b)\n",
    "print(\"차집합1\", s_inter1)\n",
    "print(\"차집합2\", s_inter2)\n",
    "# 대칭차집합\n",
    "s_symm1 = (a|b) - (a&b)\n",
    "s_symm2 = a^b\n",
    "print(\"대칭차집합\", s_symm1)\n",
    "print(\"대칭차집합\", s_symm2)"
   ]
  },
  {
   "cell_type": "code",
   "execution_count": null,
   "id": "d9436f2e",
   "metadata": {},
   "outputs": [
    {
     "name": "stdout",
     "output_type": "stream",
     "text": [
      "{1, 2, 3, 4}\n",
      "{1, 2, 3, 4, 5, 6, 7}\n",
      "{1, 2, 3, 5, 6, 7}\n"
     ]
    }
   ],
   "source": [
    "#set 메서드\n",
    "\n",
    "s1 ={1,2,3}\n",
    "\n",
    "# 원소의 추가\n",
    "s1.add(4)\n",
    "print(s1)\n",
    "\n",
    "#여러 원소 추가\n",
    "s1.update((5,6,7))\n",
    "print(s1)\n",
    "\n",
    "# 원소 제거\n",
    "s1.remove(4)\n",
    "print(s1)\n",
    "s1.discard(4)\n",
    "s1.pop(4)\n",
    "s1.clear()\n"
   ]
  },
  {
   "cell_type": "code",
   "execution_count": 18,
   "id": "920e28a1",
   "metadata": {},
   "outputs": [
    {
     "name": "stdout",
     "output_type": "stream",
     "text": [
      "True\n",
      "False\n",
      "True\n",
      "False\n",
      "False\n",
      "False\n",
      "True\n"
     ]
    }
   ],
   "source": [
    "# 부분집합 관련 메서드\n",
    "a= {10,20,30,40,50}\n",
    "b = {20,30,40,}\n",
    "c = {10,200,300,400,500}\n",
    "print(b.issubset(a))\n",
    "print(a.issubset(b))\n",
    "\n",
    "# 상위 집합 여부 판단\n",
    "print(a.issuperset(b))\n",
    "print(b.issuperset(a))\n",
    "\n",
    "#공통원소가 없는지 확인 \n",
    "print(a.isdisjoint(b))\n",
    "print(a.isdisjoint(c))\n",
    "print(c.isdisjoint(b))"
   ]
  },
  {
   "cell_type": "code",
   "execution_count": 26,
   "id": "e553fa7f",
   "metadata": {},
   "outputs": [
    {
     "name": "stdout",
     "output_type": "stream",
     "text": [
      "문제 1. 중복 제거 및 개수 세기\n",
      "{'kim', 'choi', 'park', 'lee'}\n",
      "제출한 팀 : {'kim', 'choi', 'park', 'lee'}\n",
      "제출한 팀 : {'kim', 'choi', 'park', 'lee'}\n",
      "문제 2. 공통 관심사 찾기\n",
      "1. 공통관심사 : {'Drama', 'Action'}\n",
      "2. 서로 다른 관심사 : {'Romance', 'SF'}\n",
      "3. 모든장르목록 : {'SF', 'Romance', 'Drama', 'Action'}\n",
      "문제 3. 부분집합 관계 판단\n",
      "지원 자격 충족 여부 : True\n"
     ]
    }
   ],
   "source": [
    "# 실습1\n",
    "print(\"문제 1. 중복 제거 및 개수 세기\")\n",
    "submissions = ['kim', 'lee', 'kim', 'park', 'choi', 'lee', 'lee']\n",
    "s_submissions = {'kim', 'lee', 'kim', 'park', 'choi', 'lee', 'lee'}\n",
    "print(s_submissions)\n",
    "submissions = s_submissions\n",
    "print(f\"제출한 팀 : {submissions}\")\n",
    "print(f\"제출한 팀 : {submissions}\")\n",
    "\n",
    "print(\"문제 2. 공통 관심사 찾기\")\n",
    "user1 = {'SF', 'Action', 'Drama'}\n",
    "user2 = {'Drama', 'Romance', 'Action'}\n",
    "\n",
    "공통관심사 = user1&user2\n",
    "서로다른관심사 = (user1|user2) - (user1&user2)\n",
    "모든장르목록 = user1|user2\n",
    "print(\"1. 공통관심사 :\", 공통관심사)\n",
    "print(\"2. 서로 다른 관심사 :\", 서로다른관심사)\n",
    "print(\"3. 모든장르목록 :\", 모든장르목록)\n",
    "\n",
    "#문제 3. 부분집합 관계 판단\n",
    "print(\"문제 3. 부분집합 관계 판단\")\n",
    "my_certificates= {'SQL', 'Python', 'Linux'}\n",
    "job_required= {'SQL', 'Python'}\n",
    "print(\"지원 자격 충족 여부 :\",job_required.issubset(my_certificates))"
   ]
  }
 ],
 "metadata": {
  "kernelspec": {
   "display_name": "python_study",
   "language": "python",
   "name": "python3"
  },
  "language_info": {
   "codemirror_mode": {
    "name": "ipython",
    "version": 3
   },
   "file_extension": ".py",
   "mimetype": "text/x-python",
   "name": "python",
   "nbconvert_exporter": "python",
   "pygments_lexer": "ipython3",
   "version": "3.13.5"
  }
 },
 "nbformat": 4,
 "nbformat_minor": 5
}
