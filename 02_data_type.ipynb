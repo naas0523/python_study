{
 "cells": [
  {
   "cell_type": "code",
   "execution_count": null,
   "id": "3d73f732",
   "metadata": {
    "notebookRunGroups": {
     "groupValue": "1"
    },
    "tags": [
     "parameters"
    ]
   },
   "outputs": [],
   "source": [
    "### 2.자료형(Data type)\n",
    "# - 자료의 종류와 구조를 정의하는 것\n",
    "# 컴퓨터가 자료에 따라 접근하는 것이 다르다\n",
    "# 동적 타입 언어(<->정적 타입언어)\n",
    "#- 변수를 만들때 별도의  \n"
   ]
  },
  {
   "cell_type": "code",
   "execution_count": null,
   "id": "38de9da2",
   "metadata": {},
   "outputs": [
    {
     "name": "stdout",
     "output_type": "stream",
     "text": [
      "코 : 코딩을 한다\n",
      "딩 : 딩딩딩 머리가 울린다\n",
      "온 : 언제 끝나나\n",
      "\n"
     ]
    }
   ],
   "source": [
    "# 문자열(STRING,STR)\n",
    "my_str = \"\" # 빈 문자열\n",
    "my_str = \" \" # 공백 문자열\n",
    "my_str = \"안녕하세요\" # \"요하녕안세\"-> 문자열은 '순서가 있는 자료형'\n",
    "\n",
    "# 문자열 여러줄 만들기 \n",
    "multi_str = \"\"\"코 : 코딩을 한다\n",
    "딩 : 딩딩딩 머리가 울린다\n",
    "온 : 언제 끝나나\n",
    "\"\"\"\n",
    "print(multi_str)"
   ]
  },
  {
   "cell_type": "code",
   "execution_count": 4,
   "id": "25588544",
   "metadata": {},
   "outputs": [
    {
     "name": "stdout",
     "output_type": "stream",
     "text": [
      "'지식'은 우정을 배신하지않아\n"
     ]
    }
   ],
   "source": [
    "# 따음표 속에 따음표 쓰기\n",
    "print(\"'지식'은 우정을 배신하지않아\")"
   ]
  },
  {
   "cell_type": "code",
   "execution_count": 6,
   "id": "0a7b63f8",
   "metadata": {},
   "outputs": [
    {
     "name": "stdout",
     "output_type": "stream",
     "text": [
      "<class 'int'>\n"
     ]
    }
   ],
   "source": [
    "# 정수형(integer, int)\n",
    "# 크기 제한이 없음\n",
    "my_int1 = 100\n",
    "my_int2 = 556116516165165151651651651516520305265165165\n",
    "print(type(my_int1))\n"
   ]
  },
  {
   "cell_type": "code",
   "execution_count": 7,
   "id": "5c77f382",
   "metadata": {},
   "outputs": [
    {
     "name": "stdout",
     "output_type": "stream",
     "text": [
      "<class 'float'>\n"
     ]
    }
   ],
   "source": [
    "#실수형(float)\n",
    "# 부동소수점 방식\n",
    "my_float1 = 3.14\n",
    "my_float2 =100.0\n",
    "print(type(my_float1))"
   ]
  },
  {
   "cell_type": "code",
   "execution_count": null,
   "id": "6327181e",
   "metadata": {},
   "outputs": [
    {
     "ename": "NameError",
     "evalue": "name 'Ture' is not defined",
     "output_type": "error",
     "traceback": [
      "\u001b[31m---------------------------------------------------------------------------\u001b[39m",
      "\u001b[31mNameError\u001b[39m                                 Traceback (most recent call last)",
      "\u001b[36mCell\u001b[39m\u001b[36m \u001b[39m\u001b[32mIn[8]\u001b[39m\u001b[32m, line 3\u001b[39m\n\u001b[32m      1\u001b[39m \u001b[38;5;66;03m#4. 논리형(boolean, bool)\u001b[39;00m\n\u001b[32m      2\u001b[39m \u001b[38;5;66;03m# 참(1)과 거짓(0)을 표현하는 자료형\u001b[39;00m\n\u001b[32m----> \u001b[39m\u001b[32m3\u001b[39m \u001b[38;5;28mprint\u001b[39m(\u001b[43mTure\u001b[49m)\n\u001b[32m      4\u001b[39m \u001b[38;5;28mprint\u001b[39m(\u001b[38;5;28;01mFalse\u001b[39;00m)\n\u001b[32m      5\u001b[39m \u001b[38;5;28mprint\u001b[39m(\u001b[38;5;28mtype\u001b[39m(Ture))\n",
      "\u001b[31mNameError\u001b[39m: name 'Ture' is not defined"
     ]
    }
   ],
   "source": [
    "#4. 논리형(boolean, bool)\n",
    "# 참(1)과 거짓(0)을 표현하는 자료형\n",
    "# 수학적으로, 객관적인 형태\n",
    "\n",
    "print(Ture)\n",
    "print(False)\n",
    "print(type(Ture))\n",
    "print(type(False))"
   ]
  },
  {
   "cell_type": "code",
   "execution_count": 5,
   "id": "e9d23570",
   "metadata": {},
   "outputs": [
    {
     "name": "stdout",
     "output_type": "stream",
     "text": [
      "300\n",
      "100200\n",
      "LEE minjeong\n",
      "안녕!안녕!안녕!\n"
     ]
    }
   ],
   "source": [
    "#문자열 연산 (산술 연산)\n",
    "# + : 문자열의 결합(연결)\n",
    "print(100 + 200)\n",
    "print(\"100\" + \"200\")\n",
    "\n",
    "#❌\n",
    "# print(\"100\"+ 200)\n",
    "\n",
    "first_name = \"LEE\"\n",
    "last_name = \"minjeong\"\n",
    "full_name = first_name + \" \" + last_name\n",
    "\n",
    "print(full_name)\n",
    "\n",
    "인사 = \"안녕!\"\n",
    "print(인사 * 3)\n"
   ]
  },
  {
   "cell_type": "code",
   "execution_count": 6,
   "id": "3dec2e8e",
   "metadata": {},
   "outputs": [
    {
     "name": "stdout",
     "output_type": "stream",
     "text": [
      "안녕하세요 / 2\n"
     ]
    },
    {
     "ename": "TypeError",
     "evalue": "unsupported operand type(s) for -: 'str' and 'str'",
     "output_type": "error",
     "traceback": [
      "\u001b[31m---------------------------------------------------------------------------\u001b[39m",
      "\u001b[31mTypeError\u001b[39m                                 Traceback (most recent call last)",
      "\u001b[36mCell\u001b[39m\u001b[36m \u001b[39m\u001b[32mIn[6]\u001b[39m\u001b[32m, line 3\u001b[39m\n\u001b[32m      1\u001b[39m \u001b[38;5;66;03m# 지원하지 않는 문자열 연산\u001b[39;00m\n\u001b[32m      2\u001b[39m \u001b[38;5;28mprint\u001b[39m(\u001b[33m\"\u001b[39m\u001b[33m안녕하세요 / 2\u001b[39m\u001b[33m\"\u001b[39m)\n\u001b[32m----> \u001b[39m\u001b[32m3\u001b[39m \u001b[38;5;28mprint\u001b[39m(\u001b[33;43m\"\u001b[39;49m\u001b[33;43m안녕\u001b[39;49m\u001b[33;43m\"\u001b[39;49m\u001b[43m \u001b[49m\u001b[43m-\u001b[49m\u001b[43m \u001b[49m\u001b[33;43m\"\u001b[39;49m\u001b[33;43m녕\u001b[39;49m\u001b[33;43m\"\u001b[39;49m)\n",
      "\u001b[31mTypeError\u001b[39m: unsupported operand type(s) for -: 'str' and 'str'"
     ]
    }
   ],
   "source": [
    "# 지원하지 않는 문자열 연산\n",
    "print(\"안녕하세요 / 2\")\n",
    "print(\"안녕\" - \"녕\")"
   ]
  },
  {
   "cell_type": "code",
   "execution_count": 7,
   "id": "f70be1e8",
   "metadata": {},
   "outputs": [
    {
     "name": "stdout",
     "output_type": "stream",
     "text": [
      "둠칫두둠칫두둠칫두둠칫\n"
     ]
    }
   ],
   "source": [
    "intro = \"둠칫\"\n",
    "drop = \"두둠칫\"\n",
    "\n",
    "print(intro+(drop *3))"
   ]
  },
  {
   "cell_type": "code",
   "execution_count": 8,
   "id": "80ad72bf",
   "metadata": {},
   "outputs": [
    {
     "name": "stdout",
     "output_type": "stream",
     "text": [
      "둠칫두둠칫두둠칫두둠칫\n"
     ]
    }
   ],
   "source": [
    "#실습 2 EDM 비트 만들기\n",
    "intro = \"둠칫\"\n",
    "drop = \"두둠칫\"\n",
    "\n",
    "print(intro + (drop * 3))\n"
   ]
  },
  {
   "cell_type": "code",
   "execution_count": null,
   "id": "36f11b5f",
   "metadata": {},
   "outputs": [],
   "source": []
  }
 ],
 "metadata": {
  "kernelspec": {
   "display_name": "python_study",
   "language": "python",
   "name": "python3"
  },
  "language_info": {
   "codemirror_mode": {
    "name": "ipython",
    "version": 3
   },
   "file_extension": ".py",
   "mimetype": "text/x-python",
   "name": "python",
   "nbconvert_exporter": "python",
   "pygments_lexer": "ipython3",
   "version": "3.13.5"
  }
 },
 "nbformat": 4,
 "nbformat_minor": 5
}
