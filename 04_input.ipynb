{
 "cells": [
  {
   "cell_type": "markdown",
   "id": "1d6bed25",
   "metadata": {},
   "source": [
    "### 04. 사용자 입력 (input)\n",
    "- input 함수 : 콘솔을 통해 사용자로부터 문자열 형태의 입력을 받는 함수\n",
    "    -input을 통해 받은 입력은 항상 문자열로 입력됨"
   ]
  },
  {
   "cell_type": "code",
   "execution_count": null,
   "id": "6072abfe",
   "metadata": {},
   "outputs": [
    {
     "name": "stdout",
     "output_type": "stream",
     "text": [
      "300\n"
     ]
    }
   ],
   "source": [
    "# input 사용법\n",
    "#my_input = input()\n",
    "# input을 통해 받은 입력 → 문자열\n",
    "#숫자로 활용할시 '형변환'을 햐려\n",
    "a = int(input())\n",
    "b = int(input())\n",
    "\n",
    "print(a + b)"
   ]
  },
  {
   "cell_type": "code",
   "execution_count": null,
   "id": "f1bced4f",
   "metadata": {},
   "outputs": [],
   "source": [
    "#실수 계산을 하려면 실수형으로 변환\n",
    "c = float(input())\n",
    "d = float(input())\n",
    "\n",
    "print()"
   ]
  },
  {
   "cell_type": "code",
   "execution_count": 5,
   "id": "9edc4ce0",
   "metadata": {},
   "outputs": [
    {
     "name": "stdout",
     "output_type": "stream",
     "text": [
      "제이름은 이민정입니다\n"
     ]
    }
   ],
   "source": [
    "#input의 입력에 대한 설명문 추가\n",
    "name = input(\"이름을 입력하시오\")\n",
    "\n",
    "print(f\"제이름은 {name}입니다\")"
   ]
  },
  {
   "cell_type": "code",
   "execution_count": null,
   "id": "7e2ea87b",
   "metadata": {},
   "outputs": [
    {
     "name": "stdout",
     "output_type": "stream",
     "text": [
      "['수박', '사과', '참외']\n"
     ]
    }
   ],
   "source": [
    "# 여러자료 입력하기\n",
    "#문자열을 쪼개주는 함수 : split\n",
    "# split은 구분자를 기분으로 문자열을 쪼개서 리스트를 반환함\n",
    "#구분자의 기본값은 공백\n",
    "\n",
    "과일 = \"수박 사과 참외\" .split()\n",
    "print(과일)\n",
    "\n",
    "#input에 적용\n",
    "과일 = input() .split()\n"
   ]
  },
  {
   "cell_type": "code",
   "execution_count": 35,
   "id": "93773fb9",
   "metadata": {},
   "outputs": [
    {
     "name": "stdout",
     "output_type": "stream",
     "text": [
      "1순위는 수박, 2순위는 참외, 3순위는 포도\n"
     ]
    }
   ],
   "source": [
    "# 여러자료 입력하기\n",
    "#과일1, 과일2, 과일3 = \"수박\", \"참외\", \"포도\"\n",
    "과일1, 과일2, 과일3 = input(\"제일 좋아하는 과일 3개를 써주세요.\").split()\n",
    "print(f\"1순위는 {과일1}, 2순위는 {과일2}, 3순위는 {과일3}\")"
   ]
  },
  {
   "cell_type": "code",
   "execution_count": 27,
   "id": "78754050",
   "metadata": {},
   "outputs": [
    {
     "name": "stdout",
     "output_type": "stream",
     "text": [
      "안녕하세요, 제 이름 이민정 , 나이는 23입니다.\n"
     ]
    }
   ],
   "source": [
    "이름 = input(\"이름을 입력하시오\")\n",
    "나이 = input(\"나이를 입력하시오\")\n",
    "print(f\"안녕하세요, 제 이름 {이름}, 나이는 {나이}입니다.\") "
   ]
  },
  {
   "cell_type": "code",
   "execution_count": 33,
   "id": "fcbdb98c",
   "metadata": {},
   "outputs": [
    {
     "name": "stdout",
     "output_type": "stream",
     "text": [
      "넓이 : 200, \n",
      "둘레 : 60 \n"
     ]
    }
   ],
   "source": [
    "가로 = int(input(\"가로를 입력해주세용\"))\n",
    "세로 = int(input(\"세로를 입력해주세요\"))\n",
    "print(f\"\"\"넓이 : {가로 * 세로}, \n",
    "둘레 : {(가로 + 세로)*2} \"\"\")"
   ]
  },
  {
   "cell_type": "code",
   "execution_count": null,
   "id": "e0ec8d9f",
   "metadata": {},
   "outputs": [
    {
     "name": "stdout",
     "output_type": "stream",
     "text": [
      "천의 자리는 2, \n",
      "백의 자리는 3,\n",
      "십의 자리는 4,\n",
      "일의 자리는 5\n"
     ]
    }
   ],
   "source": [
    "numer = int(input())\n",
    "천 = numer // 1000\n",
    "백 = (numer % 1000)//100\n",
    "십 = (numer % 100)//10\n",
    "일 = numer % 10\n",
    "print(f'''천의 자리는 {천}, \n",
    "백의 자리는 {백},\n",
    "십의 자리는 {십},\n",
    "일의 자리는 {일}''')"
   ]
  },
  {
   "cell_type": "code",
   "execution_count": 39,
   "id": "4d88229a",
   "metadata": {},
   "outputs": [
    {
     "name": "stdout",
     "output_type": "stream",
     "text": [
      "1조 발표자 : 민정 - 주제 : 현황\n",
      "2조 발표자 : 이안 - 주제 : 전망\n",
      "3조 발표자 : 진선 - 주제 : 직군\n"
     ]
    }
   ],
   "source": [
    "사람1, 사람2, 사람3 = input('발표자 이름 3명을 입력하시오').split()\n",
    "주제1, 주제2, 주제3 = input(\"발표주제 3개를 입력하세요.\").split()\n",
    "print(f\"\"\"1조 발표자 : {사람1} - 주제 : {주제1}\n",
    "2조 발표자 : {사람2} - 주제 : {주제2}\n",
    "3조 발표자 : {사람3} - 주제 : {주제3}\"\"\")"
   ]
  },
  {
   "cell_type": "code",
   "execution_count": 43,
   "id": "debb8331",
   "metadata": {},
   "outputs": [
    {
     "name": "stdout",
     "output_type": "stream",
     "text": [
      "개강일은 2025년 07월 07일 , 시작 시간은 09시 00분 00초 입니다.\n"
     ]
    }
   ],
   "source": [
    "년, 월, 일 = input(). split(\".\")\n",
    "시, 분, 초= input().split(\":\")\n",
    "print(f\"개강일은 {년}년 {월}월 {일}일 , 시작 시간은 {시}시 {분}분 {초}초 입니다.\")"
   ]
  },
  {
   "cell_type": "code",
   "execution_count": null,
   "id": "200da731",
   "metadata": {},
   "outputs": [],
   "source": []
  }
 ],
 "metadata": {
  "kernelspec": {
   "display_name": "python_study",
   "language": "python",
   "name": "python3"
  },
  "language_info": {
   "codemirror_mode": {
    "name": "ipython",
    "version": 3
   },
   "file_extension": ".py",
   "mimetype": "text/x-python",
   "name": "python",
   "nbconvert_exporter": "python",
   "pygments_lexer": "ipython3",
   "version": "3.13.5"
  }
 },
 "nbformat": 4,
 "nbformat_minor": 5
}
