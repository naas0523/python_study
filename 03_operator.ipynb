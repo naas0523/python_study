{
 "cells": [
  {
   "cell_type": "code",
   "execution_count": null,
   "id": "82a0672e",
   "metadata": {},
   "outputs": [],
   "source": [
    "# 연산자\n",
    "# 연산자(operator) : 값과 값 사이에 연산을 수행하는 기호 \n",
    "#항(operand) : 연산의 대상의 "
   ]
  },
  {
   "cell_type": "code",
   "execution_count": null,
   "id": "2945beff",
   "metadata": {},
   "outputs": [],
   "source": [
    "#산술 연산자\n",
    "#- 사칙연산을 포함한 수학 연산(계산) 수행\n",
    "# +, -, *, /, //, %, ** - 더하기, 빼기, 곱하기, 나누기, 몪, ?, 거듭제곱\n",
    "\n",
    "# 비교 연산자\n",
    "#- 두 값을 비교하는 연산 수행\n",
    "#- 계산 결과 Ture 또는 False를 반환\n",
    "#- ==, !=, >,<, >=, <=\n",
    "\n",
    "# 논리연산자\n",
    "#- 논리에 대한 연산을 수행\n",
    "#- True, False에 대한 연산을 수행\n",
    "#- and = 둘다 참이면 참, 하나가 거짓이면 거짓\n",
    "#- or = 둘중에 하나만 참이여도 참\n",
    "#- not = True → False, False → True\n",
    "  \n"
   ]
  },
  {
   "cell_type": "code",
   "execution_count": 4,
   "id": "c85fe36c",
   "metadata": {},
   "outputs": [
    {
     "name": "stdout",
     "output_type": "stream",
     "text": [
      "29\n",
      "11\n",
      "180\n",
      "2.2222222222222223\n",
      "2\n",
      "0\n",
      "512000000000\n"
     ]
    }
   ],
   "source": [
    "# 산술 연산자\n",
    "# 변수와 산술 연산\n",
    "# 반복되는 항이 있다면 변수로 처리\n",
    "a = 20\n",
    "b = 9\n",
    "print(a + b)\n",
    "print(a - b)\n",
    "print(a * b)\n",
    "print(a / b)\n",
    "print(a // b)\n",
    "print(a & b)\n",
    "print(a ** b)"
   ]
  },
  {
   "cell_type": "code",
   "execution_count": 11,
   "id": "5c4eb326",
   "metadata": {},
   "outputs": [
    {
     "name": "stdout",
     "output_type": "stream",
     "text": [
      "2.0\n"
     ]
    }
   ],
   "source": [
    "# 복합 연산자\n",
    "# 변수의 값을 변경\n",
    "x = 10\n",
    "# x에 5를 더하고 싶다면?\n",
    "#x = x + 5\n",
    "x += 5\n",
    "#x 에 10를 빼고 싶다면?\n",
    "#x = x - 10\n",
    "x -= 10\n",
    "# x에 두배를 하고싶다면?\n",
    "#x = x* 2\n",
    "x *= 2\n",
    "#x를 5로 나누고 싶다면?\n",
    "x /= 5\n",
    "# 결과값 출력\n",
    "print(x)"
   ]
  },
  {
   "cell_type": "code",
   "execution_count": 32,
   "id": "a0d85fdc",
   "metadata": {},
   "outputs": [
    {
     "name": "stdout",
     "output_type": "stream",
     "text": [
      "남은 돈은 236000.0 입니다.\n"
     ]
    }
   ],
   "source": [
    "x = 300000\n",
    "x -= 80000\n",
    "x -= (9000 * 5)\n",
    "x += 120000\n",
    "x *= 1.2\n",
    "x *= 2/3\n",
    "print(f\"남은 돈은 {x} 입니다.\")"
   ]
  },
  {
   "cell_type": "code",
   "execution_count": null,
   "id": "833fad67",
   "metadata": {},
   "outputs": [],
   "source": []
  }
 ],
 "metadata": {
  "kernelspec": {
   "display_name": "python_study",
   "language": "python",
   "name": "python3"
  },
  "language_info": {
   "codemirror_mode": {
    "name": "ipython",
    "version": 3
   },
   "file_extension": ".py",
   "mimetype": "text/x-python",
   "name": "python",
   "nbconvert_exporter": "python",
   "pygments_lexer": "ipython3",
   "version": "3.13.5"
  }
 },
 "nbformat": 4,
 "nbformat_minor": 5
}
