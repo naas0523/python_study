{
 "cells": [
  {
   "cell_type": "code",
   "execution_count": null,
   "id": "8c0f84d9",
   "metadata": {},
   "outputs": [],
   "source": [
    "### 주석 : 코드에 대한 설명을 작성하는 텍스트 \n",
    "# - 프로그램 실행에 영향을 주지 x"
   ]
  },
  {
   "cell_type": "code",
   "execution_count": null,
   "id": "a32f2d65",
   "metadata": {},
   "outputs": [],
   "source": [
    "# 이렇게 작성해요\n",
    "# 단축키\n",
    "# (윈도우) ctrl + /\n",
    "# 복사 , 붙여넣기 = ctrl +c , ctrl + v\n",
    "# (맥) command + /\n",
    "# print(\"Hello world!\") : 일시적으로 코드를 무시한다"
   ]
  },
  {
   "cell_type": "code",
   "execution_count": 4,
   "id": "fb798b8c",
   "metadata": {},
   "outputs": [
    {
     "name": "stdout",
     "output_type": "stream",
     "text": [
      "Hello world!\n"
     ]
    }
   ],
   "source": [
    "# 출력 : print 함수\n",
    "print(\"Hello world!\")"
   ]
  },
  {
   "cell_type": "code",
   "execution_count": null,
   "id": "7ba1ca5f",
   "metadata": {},
   "outputs": [],
   "source": [
    "### 1. 변수\n",
    "# - 변수 : 자료를 저장하는 공간\n",
    "# - 메모리에 자료가 저장된다\n"
   ]
  },
  {
   "cell_type": "code",
   "execution_count": null,
   "id": "4ab5cc11",
   "metadata": {},
   "outputs": [],
   "source": [
    "#변수를 만드는 것 : 선언\n",
    "#변수를 저장하는 것 : 할당\n",
    "#처음으로 변수에 값을 할당하는 것 : 초기화\n",
    "# = : 대입 연산자 **등호가 아님!!**(같다 -> ==)\n",
    "# - 변수에 값을 저장한다(할당한다)는 의미\n",
    "변수이름 = \"저장할자료\""
   ]
  },
  {
   "cell_type": "code",
   "execution_count": null,
   "id": "cd78697f",
   "metadata": {},
   "outputs": [
    {
     "name": "stdout",
     "output_type": "stream",
     "text": [
      "저장할자료\n"
     ]
    }
   ],
   "source": [
    "print(변수이름)"
   ]
  },
  {
   "cell_type": "code",
   "execution_count": null,
   "id": "4dec77e2",
   "metadata": {},
   "outputs": [],
   "source": [
    "# 변수의 특징\n",
    "# 저장한 값을 바꿀 수 있다.\n",
    "# 단, 한번에 하나씩만 저장된다.\n",
    "# 파이썬에서는 변수는 선언과 함께 초기화를 해줘야함\n",
    "# 숫자만 쓰는 것은 안되고 숫자가 앞머리인 경우에도 안된다\n",
    "# 스네이크 케이스(파이썬에서 제일 많이 사용하는 것) = my_pig_gg\n",
    "`12`"
   ]
  },
  {
   "cell_type": "code",
   "execution_count": null,
   "id": "29ad6453",
   "metadata": {},
   "outputs": [
    {
     "name": "stdout",
     "output_type": "stream",
     "text": [
      "1 2 3\n"
     ]
    }
   ],
   "source": [
    "#한 줄에 여러 변수 만들기\n",
    "# 변수이름과 값을 나열할때 위,아래 관계없지만 가독성이 떨어지면 안된다\n",
    "# a,b,c = 10+1 , 2-1 등등\n",
    "a = 1\n",
    "b =2\n",
    "c = 3\n",
    "a,b,c = 1,2,3\n",
    "print(a,b,c)"
   ]
  },
  {
   "cell_type": "code",
   "execution_count": 24,
   "id": "10b5869a",
   "metadata": {},
   "outputs": [
    {
     "name": "stdout",
     "output_type": "stream",
     "text": [
      "내 이름은 민정 이고, 나이는 23\n",
      "공격력: 100 , 방어력: 80 , 민첩성 : 95 , 지력 : 105\n",
      "공격력 :100, 방어력 : 80, 민첩성 : 95, 지력 : 105\n"
     ]
    }
   ],
   "source": [
    "#- f-string : 문자열\n",
    "# 문자열 안에 변수를 쓸 수 있도록 해주는 기능 \n",
    "my_name1 = \"민정\"\n",
    "my_age1 = 23\n",
    "\n",
    "#나의 이름은 min_jeong이고 나이는 15입니다\n",
    "print(\"내 이름은\", my_name1, \"이고, 나이는\", my_age1)\n",
    "\n",
    "power, defence, agility, intelligence =100, 80, 95, 105\n",
    "print(\"공격력:\", power, \", 방어력:\", defence, \", 민첩성 :\", agility, \", 지력 :\", intelligence )\n",
    "\n",
    "#f-string 사용\n",
    "print(f\"공격력 :{power}, 방어력 : {defence}, 민첩성 : {agility}, 지력 : {intelligence}\")"
   ]
  },
  {
   "cell_type": "code",
   "execution_count": null,
   "id": "ae63081d",
   "metadata": {},
   "outputs": [],
   "source": [
    "my_name1 = \"민정\"\n",
    "my_age1 = 23\n",
    "print(\"내이름은 %s입니다\" % \"민정\")\n",
    "print(\"내 나이는\")"
   ]
  },
  {
   "cell_type": "code",
   "execution_count": 15,
   "id": "7885f8f3",
   "metadata": {},
   "outputs": [
    {
     "name": "stdout",
     "output_type": "stream",
     "text": [
      "3.24 →3\n",
      "'100'→ 100\n"
     ]
    }
   ],
   "source": [
    "#형변환(type casting)\n",
    "#명시적 형변환(explicit) vs 암시적 형변환(implicit)\n",
    "#강타입 vs 약타입 \n",
    "\n",
    "#정수로 변환 : int()\n",
    "#1. 실수 -> 정수\n",
    "#2. 문자열로 표현된 정수 -> 정수\n",
    "#3. 논리형 -> 정수\n",
    "\n",
    "print(f\"3.24 →{int(3.14)}\")\n",
    "print(f\"'100'→ {('100')}\")"
   ]
  },
  {
   "cell_type": "code",
   "execution_count": 16,
   "id": "af6ee3c9",
   "metadata": {},
   "outputs": [
    {
     "ename": "ValueError",
     "evalue": "invalid literal for int() with base 10: 'abs'",
     "output_type": "error",
     "traceback": [
      "\u001b[31m---------------------------------------------------------------------------\u001b[39m",
      "\u001b[31mValueError\u001b[39m                                Traceback (most recent call last)",
      "\u001b[36mCell\u001b[39m\u001b[36m \u001b[39m\u001b[32mIn[16]\u001b[39m\u001b[32m, line 3\u001b[39m\n\u001b[32m      1\u001b[39m \u001b[38;5;66;03m#❌불가능한 경우\u001b[39;00m\n\u001b[32m      2\u001b[39m \u001b[38;5;66;03m#print(int(\"3.14\")) # 문자열로 표현된 실수\u001b[39;00m\n\u001b[32m----> \u001b[39m\u001b[32m3\u001b[39m \u001b[38;5;28mprint\u001b[39m(\u001b[38;5;28;43mint\u001b[39;49m\u001b[43m(\u001b[49m\u001b[33;43m\"\u001b[39;49m\u001b[33;43mabs\u001b[39;49m\u001b[33;43m\"\u001b[39;49m\u001b[43m)\u001b[49m)\n",
      "\u001b[31mValueError\u001b[39m: invalid literal for int() with base 10: 'abs'"
     ]
    }
   ],
   "source": [
    "#❌불가능한 경우\n",
    "#print(int(\"3.14\")) # 문자열로 표현된 실수\n",
    "print(int(\"abs\"))"
   ]
  },
  {
   "cell_type": "code",
   "execution_count": null,
   "id": "e3dfbed3",
   "metadata": {},
   "outputs": [],
   "source": [
    "#✅가능한 경우\n",
    "#실수로 변환 : floot()\n",
    "# 문자열로 표현된 실수 →\n",
    "print(f\"7→ {('100')}\")\n",
    "print(f\"'100'→ {('100')}\")\n",
    "print(f\"'100'→ {('100')}\")\n",
    "print(f\"'100'→ {('100')}\") "
   ]
  },
  {
   "cell_type": "code",
   "execution_count": null,
   "id": "375d440d",
   "metadata": {},
   "outputs": [
    {
     "name": "stdout",
     "output_type": "stream",
     "text": [
      "15.0\n"
     ]
    }
   ],
   "source": [
    "#암시적 형변환\n",
    "# 정수와 실수의 연산에서 자동으로 실수로 연산해줌 \n",
    "print(10 +5.0)"
   ]
  },
  {
   "cell_type": "code",
   "execution_count": 22,
   "id": "5e6db622",
   "metadata": {},
   "outputs": [
    {
     "name": "stdout",
     "output_type": "stream",
     "text": [
      "100 <class 'str'>\n",
      "3.14 <class 'str'>\n",
      "True <class 'str'>\n"
     ]
    }
   ],
   "source": [
    "#문자열로 변환: str()\n",
    "# 모든 타입을 문자열로 변환 가능\n",
    "print(str(100), type(str(100)))\n",
    "print(str(3.14), type(str(3.14)))\n",
    "print(str(True), type(str(True)))"
   ]
  },
  {
   "cell_type": "code",
   "execution_count": 26,
   "id": "30fd81c1",
   "metadata": {},
   "outputs": [
    {
     "name": "stdout",
     "output_type": "stream",
     "text": [
      "제가 좋아하는 영화제목은 : 하울의 움직이는 성, 감독은 : 미아쟈키, 제작년도는 2004, 장르는 : 판타지\n"
     ]
    }
   ],
   "source": [
    "title = '하울의 움직이는 성'\n",
    "director = '미아쟈키'\n",
    "year = 2004\n",
    "genre = '판타지'\n",
    "\n",
    "print(f\"제가 좋아하는 영화제목은 : {title}, 감독은 : {director}, 제작년도는 {year}, 장르는 : {genre}\" )"
   ]
  },
  {
   "cell_type": "code",
   "execution_count": 30,
   "id": "29189d92",
   "metadata": {},
   "outputs": [
    {
     "name": "stdout",
     "output_type": "stream",
     "text": [
      "안녕하세요.\n",
      "      제 이름은 : 이민정,\n",
      "      나이는 23,\n",
      "      MBTI는 infp 입니다.\n",
      "      잘 부탁드립니다♥\n"
     ]
    }
   ],
   "source": [
    "이름, 나이, mbti = \"이민정\", 23 , \"infp\"\n",
    "print(f\"\"\"안녕하세요.\n",
    "      제 이름은 : {이름},\n",
    "      나이는 {나이},\n",
    "      MBTI는 {mbti} 입니다.\n",
    "      잘 부탁드립니다♥\"\"\")"
   ]
  },
  {
   "cell_type": "code",
   "execution_count": null,
   "id": "9c506e42",
   "metadata": {},
   "outputs": [],
   "source": [
    "#실습1. 영화 정보 출력하기 \n",
    "title, director, year, genre = \"드래곤 길들이기\", \"모름\", 2025, \"판타지\"\n",
    "print(f\"Tittle: {title}, \") "
   ]
  }
 ],
 "metadata": {
  "kernelspec": {
   "display_name": "python_study",
   "language": "python",
   "name": "python3"
  },
  "language_info": {
   "codemirror_mode": {
    "name": "ipython",
    "version": 3
   },
   "file_extension": ".py",
   "mimetype": "text/x-python",
   "name": "python",
   "nbconvert_exporter": "python",
   "pygments_lexer": "ipython3",
   "version": "3.13.5"
  }
 },
 "nbformat": 4,
 "nbformat_minor": 5
}
