{
 "cells": [
  {
   "cell_type": "code",
   "execution_count": 2,
   "id": "b9d9ec92",
   "metadata": {},
   "outputs": [
    {
     "name": "stdout",
     "output_type": "stream",
     "text": [
      "밈뎡, 100, []\n"
     ]
    }
   ],
   "source": [
    "플레이어_이름 = input(\"숫자 기입 없이 이름을 한글이나 영어로 적어주세요.\")\n",
    "체력 = 100\n",
    "소지품 = []\n",
    "\n",
    "print(f\"{플레이어_이름}, {체력}, {소지품}\")"
   ]
  }
 ],
 "metadata": {
  "kernelspec": {
   "display_name": "python_study",
   "language": "python",
   "name": "python3"
  },
  "language_info": {
   "codemirror_mode": {
    "name": "ipython",
    "version": 3
   },
   "file_extension": ".py",
   "mimetype": "text/x-python",
   "name": "python",
   "nbconvert_exporter": "python",
   "pygments_lexer": "ipython3",
   "version": "3.13.5"
  }
 },
 "nbformat": 4,
 "nbformat_minor": 5
}
