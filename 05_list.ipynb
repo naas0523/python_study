{
 "cells": [
  {
   "cell_type": "markdown",
   "id": "f591659c",
   "metadata": {},
   "source": [
    "### 05. 리스트(List) \n",
    "- 여러 값들을 순서대로 저장할 수 있는 자료형 * 순서대로 접근할 수 있다(인덱스)\n",
    "- 인덱스(index) : 자료에 부여된 순서 번호 → 인덱스로 각 원소에 접근 가능\n",
    "- 가변 자료형(mutable): 원소의 추가/수정/삭제가 자유로움 \n",
    "### 이터러블, 컬렉션, 시퀀스\n",
    "### 이터러블은 상위 개념, 컬렉션이 중간 개념, 시퀀스는 하위 개념이다.\n",
    "### 이터러블(iteration) : 반복가능한(for문에서 사용가능한) 개체\n",
    "- 서랍에서 하나씩 꺼내올 수 있다\n",
    "### 컬렉션 : 여러 테이터를 하나의 변수에 묶어서 저장 할 수있는거\n",
    "- 상자에 서랍장을 넣는다고 생각하고 \n",
    "- 리스트, 튜플, 집합, 딕셔너리\n",
    "- \n",
    "### 시퀀스 : 자료들이 순서들이 있다. \n",
    "- 인덱싱과 슬라이싱이 있다. \n"
   ]
  },
  {
   "cell_type": "code",
   "execution_count": null,
   "id": "203b3ecb",
   "metadata": {},
   "outputs": [
    {
     "name": "stdout",
     "output_type": "stream",
     "text": [
      "['c', 'o', 'd', 'i', 'n', 'g', 'o', 'n']\n"
     ]
    }
   ],
   "source": [
    "# 라스트 만들기\n",
    "내_리스트1 = []\n",
    "# 리스트애 자료를 저장\n",
    "내_리스트2 = [\"안녕하세요\",\"반가워요\",\"다음에 또 만나요\"]\n",
    "내_리스트3 = [10, \"아주좋아요\", 3,14, [1,2,3,4]]\n",
    "# 리스트 생성함수로 만들기\n",
    "내_리스트4 = list() #빈리스트\n",
    "#내 리스트\n",
    "내_리스트5 = list(\"codingon\")\n",
    "print(내_리스트5)"
   ]
  },
  {
   "cell_type": "code",
   "execution_count": null,
   "id": "9b1eab43",
   "metadata": {},
   "outputs": [
    {
     "data": {
      "text/plain": [
       "4"
      ]
     },
     "execution_count": 5,
     "metadata": {},
     "output_type": "execute_result"
    }
   ],
   "source": [
    "# 인덱싱과 슬라이싱\n",
    "# 인덱스: 원소의 순서 번호,첫번째 번호는 0번이다. \n",
    "# 인덱싱: 인덱스를 통해 값(원소)을 조회하는 것\n",
    "# 원소 주소의 처음을 말한다\n",
    "# 음수 인덱스: 뒤에서부터 자료에 접근\n",
    "my_list = [10,20,30,40,50]\n",
    "my_list[0]\n",
    "my_list[-1]\n",
    "my_list[3] = 4 #인덱스로 원소에 접근하여\n",
    "my_list[3]"
   ]
  },
  {
   "cell_type": "code",
   "execution_count": null,
   "id": "779dd4a6",
   "metadata": {},
   "outputs": [
    {
     "data": {
      "text/plain": [
       "'o'"
      ]
     },
     "execution_count": 8,
     "metadata": {},
     "output_type": "execute_result"
    }
   ],
   "source": [
    "#문자열 인덱싱\n",
    "#- 문자열은 불변인덱스이다\n",
    "my_str = \"codingon\"\n",
    "my_str[2]\n",
    "my_str[-2]\n",
    "\n"
   ]
  },
  {
   "cell_type": "code",
   "execution_count": null,
   "id": "164af0c9",
   "metadata": {},
   "outputs": [
    {
     "data": {
      "text/plain": [
       "[100, 90, 80, 70, 60, 50, 40, 30, 20, 10]"
      ]
     },
     "execution_count": 17,
     "metadata": {},
     "output_type": "execute_result"
    }
   ],
   "source": [
    "#슬라이싱\n",
    "#시퀀스에서 특정 구간을 잘라내서 추출하는 방법\n",
    "# 원본은 변경X → 새로운 시퀀스 생성\n",
    "# 시퀀스[시작:끝:간격]\n",
    "my_numbers = [10,20,30,40,50,60,70,80,90,100]\n",
    "my_numbers[1:4:]\n",
    "my_numbers[3:]\n",
    "sliced = my_numbers[:4]\n",
    "my_numbers[1::2]\n",
    "my_numbers[::] # 같은 리스트를 복제 하는 것\n",
    "my_numbers[::-1] # 뒤집어서 복제\n",
    "my_numbers[2:4]"
   ]
  },
  {
   "cell_type": "code",
   "execution_count": 20,
   "id": "60719544",
   "metadata": {},
   "outputs": [
    {
     "data": {
      "text/plain": [
       "[100, 200]"
      ]
     },
     "execution_count": 20,
     "metadata": {},
     "output_type": "execute_result"
    }
   ],
   "source": [
    "# 리스트에 값 추가하기\n",
    "my_list = []\n",
    "my_list.append(100)\n",
    "my_list.append(200)\n",
    "my_list\n"
   ]
  },
  {
   "cell_type": "code",
   "execution_count": 31,
   "id": "e423583a",
   "metadata": {},
   "outputs": [
    {
     "name": "stdout",
     "output_type": "stream",
     "text": [
      "10\n",
      "50\n"
     ]
    }
   ],
   "source": [
    "#문제 1\n",
    "nums = [10,20,30,40,50]\n",
    "print(nums[0]) \n",
    "print(nums[4])"
   ]
  },
  {
   "cell_type": "code",
   "execution_count": null,
   "id": "2b958f10",
   "metadata": {},
   "outputs": [
    {
     "data": {
      "text/plain": [
       "[300, 400, 500]"
      ]
     },
     "execution_count": 6,
     "metadata": {},
     "output_type": "execute_result"
    }
   ],
   "source": [
    "#문제 2\n",
    "nums = [100,200,300,400,500,600,700]\n",
    "print(nums[2:5])"
   ]
  },
  {
   "cell_type": "code",
   "execution_count": 43,
   "id": "d71eb05c",
   "metadata": {},
   "outputs": [
    {
     "name": "stdout",
     "output_type": "stream",
     "text": [
      "[2, 4, 6, 8, 10]\n"
     ]
    }
   ],
   "source": [
    "#문제 3\n",
    "nums = [1,2,3,4,5]\n",
    "nums[0] *= 2\n",
    "nums[1] *= 2\n",
    "nums[2] *= 2\n",
    "nums[3] *= 2\n",
    "nums[4] *= 2\n",
    "print(nums)"
   ]
  },
  {
   "cell_type": "code",
   "execution_count": null,
   "id": "c7bbe0e9",
   "metadata": {},
   "outputs": [
    {
     "data": {
      "text/plain": [
       "['e', 'd', 'c', 'b', 'a']"
      ]
     },
     "execution_count": 13,
     "metadata": {},
     "output_type": "execute_result"
    }
   ],
   "source": [
    "#문제4\n",
    "items = list(\"abcde\")\n",
    "items[::-1]"
   ]
  },
  {
   "cell_type": "code",
   "execution_count": null,
   "id": "4c1d65a5",
   "metadata": {},
   "outputs": [
    {
     "data": {
      "text/plain": [
       "['0', '2', '4']"
      ]
     },
     "execution_count": 20,
     "metadata": {},
     "output_type": "execute_result"
    }
   ],
   "source": [
    "#문제5\n",
    "data = list(\"012345\")\n",
    "data[::2]"
   ]
  },
  {
   "cell_type": "code",
   "execution_count": 23,
   "id": "f86473b5",
   "metadata": {},
   "outputs": [
    {
     "data": {
      "text/plain": [
       "['인셉션', '인터스텔라', '매트릭스', '타이타닉', '기생충']"
      ]
     },
     "execution_count": 23,
     "metadata": {},
     "output_type": "execute_result"
    }
   ],
   "source": [
    "#문제6\n",
    "movies = [\"인셉션\", \"인터스텔라\", \"어벤져스\", \"라라랜드\", \"기생충\"]\n",
    "movies[2:4] =[\"매트릭스\", \"타이타닉\"]\n",
    "movies"
   ]
  },
  {
   "cell_type": "code",
   "execution_count": null,
   "id": "aa278064",
   "metadata": {},
   "outputs": [
    {
     "data": {
      "text/plain": [
       "['물리', '생물', '지구과학']"
      ]
     },
     "execution_count": 26,
     "metadata": {},
     "output_type": "execute_result"
    }
   ],
   "source": [
    "#문제7\n",
    "subjects = [\"국어\", \"수학\", \"영어\", \"물리\", \"화학\", \"생물\",\"역사\", \"지구과학\", \"윤리\"]\n",
    "subjects[3::2]"
   ]
  },
  {
   "cell_type": "code",
   "execution_count": 40,
   "id": "6d541dba",
   "metadata": {},
   "outputs": [
    {
     "name": "stdout",
     "output_type": "stream",
     "text": [
      "['C', 'B', 'A'] ['F', 'E', 'D'] ['I', 'H', 'G']\n"
     ]
    }
   ],
   "source": [
    "#문제 8\n",
    "data = [\"A\", \"B\", \"C\", \"D\", \"E\", \"F\", \"G\", \"H\", \"I\"]\n",
    "print(data[0:3:][::-1], end=\" \")\n",
    "print(data[3:6:][::-1], end= \" \")\n",
    "print(data[6::][::-1])"
   ]
  },
  {
   "cell_type": "code",
   "execution_count": null,
   "id": "d44a59ec",
   "metadata": {},
   "outputs": [],
   "source": [
    "#범위에서 벗어"
   ]
  },
  {
   "cell_type": "code",
   "execution_count": null,
   "id": "1a082dbd",
   "metadata": {},
   "outputs": [],
   "source": [
    "#슬라이싱 할때 주의사항\n",
    "my_list = [1,2,3,4,5]\n",
    "#step에 양수를 넣었는데, start에서 end를 감소시키면 → 빈 리스트 반환\n",
    "my_list[4:1:-2]\n",
    "#step에 음수를 넣었는데, start에서 end를 감소시키면 → 빈 리스트 반환\n",
    "my_list[1:3:-1]"
   ]
  },
  {
   "cell_type": "code",
   "execution_count": null,
   "id": "5a731e6f",
   "metadata": {},
   "outputs": [
    {
     "name": "stdout",
     "output_type": "stream",
     "text": [
      "[10, 20, 40, 50]\n"
     ]
    }
   ],
   "source": [
    "#리스트 연산\n",
    "#del 키워드 : 범용 삭제 키워드 , 리스트 외에도 딕셔너리 등에 사용 가능\n",
    "my_list = [10,20,30,40,50]\n",
    "\n",
    "#30 삭제\n",
    "del my_list[2]\n",
    "print(my_list)\n",
    "\n",
    "#20,40 삭제\n",
    "del my_list[1:3]\n",
    "print(my_list)\n",
    "\n",
    "#리스트 삭제 - 가변자료형만 삭제 가능\n",
    "del my_list\n",
    "print(my_list)"
   ]
  },
  {
   "cell_type": "code",
   "execution_count": null,
   "id": "5662aae6",
   "metadata": {},
   "outputs": [],
   "source": [
    "# 리스트 연결(+)\n",
    "my_list1 = [\"가\",\"나\",\"다\"]\n",
    "my_list2 = [\"라\",\"마\",\"바\"]\n",
    "\n",
    "#원본 대상은 변경되지않고 새로운 리스트를 반환\n",
    "new_list = my_list1 +my_list2\n"
   ]
  },
  {
   "cell_type": "code",
   "execution_count": null,
   "id": "2dc08467",
   "metadata": {},
   "outputs": [],
   "source": [
    "#리스트 반복 (*)\n",
    "my_list =[\"금\",\"은\",\"동\"]\n",
    "\n",
    "#리스트 * 정수\n",
    "#원본 대상을 변경하지 않고 새로운 리스트를 반환\n"
   ]
  },
  {
   "cell_type": "code",
   "execution_count": 46,
   "id": "cb36e31a",
   "metadata": {},
   "outputs": [
    {
     "name": "stdout",
     "output_type": "stream",
     "text": [
      "False\n",
      "False\n",
      "참외 없어요\n"
     ]
    }
   ],
   "source": [
    "#원소의 포함 여부 검사\n",
    "fruits = [\"토마토\",\"사과\",\"포도\",\"수박\",\"바나나\"]\n",
    "\n",
    "print(\"포도\" not in fruits)\n",
    "print(\"참외\" in fruits)\n",
    "\n",
    "if \"참외\" not in fruits:\n",
    "    print(\"참외 없어요\")\n",
    "else:\n",
    "    print(\"참외 있어요\")"
   ]
  },
  {
   "cell_type": "code",
   "execution_count": 51,
   "id": "4d4c873f",
   "metadata": {},
   "outputs": [
    {
     "name": "stdout",
     "output_type": "stream",
     "text": [
      "['apple', 'watermelon', 'strawberry']\n"
     ]
    }
   ],
   "source": [
    "fruits = [\"apple\", \"banana\", \"cherry\", \"grape\", \"watermelon\", \"strawberry\"]\n",
    "del fruits[1:4]\n",
    "result = fruits[:1] +fruits[1:]\n",
    "print(result)\n"
   ]
  },
  {
   "cell_type": "code",
   "execution_count": 52,
   "id": "406d41f0",
   "metadata": {},
   "outputs": [
    {
     "name": "stdout",
     "output_type": "stream",
     "text": [
      "['A', 'B', 'B', 'A', 'B']\n"
     ]
    }
   ],
   "source": [
    "letters = [\"A\", \"B\"]\n",
    "#letters[:] *= 3\n",
    "new_letters = letters * 3\n",
    "del new_letters[2:3]\n",
    "print(new_letters)"
   ]
  },
  {
   "cell_type": "code",
   "execution_count": null,
   "id": "475939e6",
   "metadata": {},
   "outputs": [
    {
     "name": "stdout",
     "output_type": "stream",
     "text": [
      "8\n",
      "5\n",
      "\n",
      "2.append(x)\n",
      "[1, 2, 3, 4, 5, 6, 7, 8]\n",
      "2. insert(idx.x)\n",
      "[0, 1, 2, 2.5, 3, 3.5, 2.5, 4, 5, 6, 7, 8]\n",
      "4. remove(x)\n",
      "[0, 1, 2, 3, 2.5, 4, 5, 6, 7, 8]\n",
      "[0, 1, 2, 3, 4, 5, 6, 7]\n",
      "삭제한 요소 2.5 8\n"
     ]
    }
   ],
   "source": [
    "#리스트 주요 메서드(Method)\n",
    "#기능 = 함수\n",
    "numbers = [1,2,3,4,5]\n",
    "\n",
    "#1 Len() : 시퀀스의 길이(요소의 갯수)를 반환\n",
    "print(len(\"CodingOn\"))\n",
    "print(len(numbers))\n",
    "print()\n",
    "# 2. append(x) : 리스트 끝에 요소 추가\n",
    "print(\"2.append(x)\")\n",
    "numbers.append(6)\n",
    "numbers.append(7)\n",
    "numbers.append(8)\n",
    "print(numbers)\n",
    "#3. insert(index, x): 지정항 인덱스에 요소를 삽입\n",
    "print(\"2. insert(idx.x)\")\n",
    "numbers.insert(2,2.5)\n",
    "numbers.insert(4,3.5)\n",
    "numbers.insert(5,2.5)\n",
    "numbers.insert(0,0)\n",
    "print(numbers)\n",
    "# 4. remove(x) : 특정 값을 삭제한다.\n",
    "# 가장 처음 발견된 값을 삭제\n",
    "print(\"4. remove(x)\")\n",
    "numbers.remove(2.5)\n",
    "numbers.remove(3.5)\n",
    "print(numbers)\n",
    "\n",
    "# 5. pop(idx) : 인덱스로 삭제\n",
    "#인덱스를 지정하지 않으면 마지막 요소를 삭제\n",
    "a = numbers.pop(4)\n",
    "b = numbers.pop()\n",
    "print(numbers)\n",
    "print('삭제한 요소',a,b)\n",
    "# 6. extend(iterable) : 리스트 끝에 여러요소 추가 - 다른 리스트를 추가할 수 있다\n",
    "print(\"6. extend(iterable)\")\n",
    "fruits = [\"사과\",\"포도\",\"딸기\"]\n",
    "fruits\n",
    "\n",
    "#my_list = [1,2,3,4]\n",
    "#print(type(my_list))\n"
   ]
  },
  {
   "cell_type": "code",
   "execution_count": null,
   "id": "e9a3f7ee",
   "metadata": {},
   "outputs": [
    {
     "name": "stdout",
     "output_type": "stream",
     "text": [
      "7. 리스트정렬 : sort(), sorted()\n",
      "7-1 list.sort() : 원본 리스트를 정렬\n",
      "오름차순 [1, 2, 3, 4]\n",
      "내림차순 [4, 3, 2, 1]\n"
     ]
    }
   ],
   "source": [
    "#7. 리스트 정렬 : sort(), sorted()\n",
    "#7-1 list.sort() : 원본 리스트를 정렬\n",
    "print(\"7. 리스트정렬 : sort(), sorted()\")\n",
    "print(\"7-1 list.sort() : 원본 리스트를 정렬\")\n",
    "numbers1 = [3,2,1,4]\n",
    "numbers1.sort()\n",
    "print(\"오름차순\",numbers1)\n",
    "numbers1.sort(reverse=True)\n",
    "print(\"내림차순\",numbers1)\n",
    "\n",
    "# 7-2. sorted(list) : 정렬된 새로운 리스트를 반환\n",
    "print(\"7-2. sorted(list) : 정렬된 새로운 리스트를 반환\")\n",
    "numbers2 = [50,52,51,53]\n",
    "\n",
    "# 8. 리스트 뒤집기 : reverse(), reversed()\n",
    "# 8-1 List.reverse() : 원본 리스트를 뒤집음\n",
    "print(\"8. 리스트 뒤집기 : reverse(), reversed()\")\n",
    "print(\"8-1. list.reverse()\")\n",
    "my_numbers = [100,101,103,105,104]\n",
    "my_numbers.reverse()\n",
    "print(my_numbers)\n",
    "my_numbers.reverse()\n",
    "print(my_numbers)\n",
    "\n",
    "#8-2 reversed(list) : 새로은 리스트를 반환\n",
    "print(\"8-2 reversed(list) : 새로은 리스트를 반환\")\n"
   ]
  },
  {
   "cell_type": "code",
   "execution_count": null,
   "id": "7df57367",
   "metadata": {},
   "outputs": [
    {
     "name": "stdout",
     "output_type": "stream",
     "text": [
      "9. count(x) : 값이 개수 세기\n",
      "4\n",
      "10 min(), max(): 최대값, 최솟값 찾기\n",
      "10\n",
      "300\n",
      "\n",
      "11 sum(list) : 요소들으 합 구하기\n",
      "700\n"
     ]
    }
   ],
   "source": [
    "# 9. count(x) : 값이 개수 세기\n",
    "print(\"9. count(x) : 값이 개수 세기\")\n",
    "numbers = [1,2,2,2,2,3,4]\n",
    "print(numbers.count(2))\n",
    "\n",
    "#10 min(), max(): 최대값, 최솟값 찾기\n",
    "print(\"10 min(), max(): 최대값, 최솟값 찾기\")\n",
    "numbers2 = [100,200,300,40,50,10]\n",
    "print(min(numbers2))\n",
    "print(max(numbers2))\n",
    "print()\n",
    "\n",
    "#11 sum(list) : 요소들의 합 구하기\n",
    "print(\"11 sum(list) : 요소들의 합 구하기\")\n",
    "print(sum(numbers2))"
   ]
  },
  {
   "cell_type": "code",
   "execution_count": null,
   "id": "6c09b0a4",
   "metadata": {},
   "outputs": [
    {
     "name": "stdout",
     "output_type": "stream",
     "text": [
      "['C', 'B', 'A'] ['F', 'E', 'D'] ['I', 'H', 'G']\n"
     ]
    }
   ],
   "source": [
    "#문제 8\n",
    "data = [\"A\", \"B\", \"C\", \"D\", \"E\", \"F\", \"G\", \"H\", \"I\"]\n",
    "print(data[0:3:][::-1], end=\" \")\n",
    "print(data[3:6:][::-1], end= \" \")\n",
    "print(data[6::][::-1])"
   ]
  },
  {
   "cell_type": "code",
   "execution_count": 70,
   "id": "f6d8f50c",
   "metadata": {},
   "outputs": [
    {
     "name": "stdout",
     "output_type": "stream",
     "text": [
      "['지훈', '수진', '철수']\n"
     ]
    }
   ],
   "source": [
    "train = []\n",
    "train.append(\"철수\")\n",
    "train.append(\"영희\")\n",
    "#train.append(\"민수\")\n",
    "#train.append(\"지훈\")\n",
    "train.extend([\"민수\",\"지훈\"])\n",
    "train.remove(\"영희\")\n",
    "train.insert(1,\"수진\")\n",
    "train.remove(\"민수\")\n",
    "train.reverse()\n",
    "print(train)"
   ]
  },
  {
   "cell_type": "code",
   "execution_count": 69,
   "id": "b2c95cb9",
   "metadata": {},
   "outputs": [
    {
     "name": "stdout",
     "output_type": "stream",
     "text": [
      "3\n",
      "9\n",
      "28\n",
      "[3, 4, 5, 7, 9]\n"
     ]
    }
   ],
   "source": [
    "num = [5, 3, 7]\n",
    "num.append(4)\n",
    "num.append(9)\n",
    "print(min(num))\n",
    "print(max(num))\n",
    "print(sum(num))\n",
    "num.sort()\n",
    "print(num)"
   ]
  },
  {
   "cell_type": "code",
   "execution_count": null,
   "id": "96594b2e",
   "metadata": {},
   "outputs": [],
   "source": []
  }
 ],
 "metadata": {
  "kernelspec": {
   "display_name": "python_study",
   "language": "python",
   "name": "python3"
  },
  "language_info": {
   "codemirror_mode": {
    "name": "ipython",
    "version": 3
   },
   "file_extension": ".py",
   "mimetype": "text/x-python",
   "name": "python",
   "nbconvert_exporter": "python",
   "pygments_lexer": "ipython3",
   "version": "3.13.5"
  }
 },
 "nbformat": 4,
 "nbformat_minor": 5
}
